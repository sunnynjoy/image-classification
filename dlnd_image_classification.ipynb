{
 "cells": [
  {
   "cell_type": "markdown",
   "metadata": {
    "collapsed": true
   },
   "source": [
    "# Image Classification\n",
    "In this project, you'll classify images from the [CIFAR-10 dataset](https://www.cs.toronto.edu/~kriz/cifar.html).  The dataset consists of airplanes, dogs, cats, and other objects. You'll preprocess the images, then train a convolutional neural network on all the samples. The images need to be normalized and the labels need to be one-hot encoded.  You'll get to apply what you learned and build a convolutional, max pooling, dropout, and fully connected layers.  At the end, you'll get to see your neural network's predictions on the sample images.\n",
    "## Get the Data\n",
    "Run the following cell to download the [CIFAR-10 dataset for python](https://www.cs.toronto.edu/~kriz/cifar-10-python.tar.gz)."
   ]
  },
  {
   "cell_type": "code",
   "execution_count": 1,
   "metadata": {},
   "outputs": [
    {
     "name": "stderr",
     "output_type": "stream",
     "text": [
      "CIFAR-10 Dataset: 171MB [00:08, 19.9MB/s]                              \n"
     ]
    },
    {
     "name": "stdout",
     "output_type": "stream",
     "text": [
      "All files found!\n"
     ]
    }
   ],
   "source": [
    "\"\"\"\n",
    "DON'T MODIFY ANYTHING IN THIS CELL THAT IS BELOW THIS LINE\n",
    "\"\"\"\n",
    "from urllib.request import urlretrieve\n",
    "from os.path import isfile, isdir\n",
    "from tqdm import tqdm\n",
    "import problem_unittests as tests\n",
    "import tarfile\n",
    "\n",
    "cifar10_dataset_folder_path = 'cifar-10-batches-py'\n",
    "\n",
    "class DLProgress(tqdm):\n",
    "    last_block = 0\n",
    "\n",
    "    def hook(self, block_num=1, block_size=1, total_size=None):\n",
    "        self.total = total_size\n",
    "        self.update((block_num - self.last_block) * block_size)\n",
    "        self.last_block = block_num\n",
    "\n",
    "if not isfile('cifar-10-python.tar.gz'):\n",
    "    with DLProgress(unit='B', unit_scale=True, miniters=1, desc='CIFAR-10 Dataset') as pbar:\n",
    "        urlretrieve(\n",
    "            'https://www.cs.toronto.edu/~kriz/cifar-10-python.tar.gz',\n",
    "            'cifar-10-python.tar.gz',\n",
    "            pbar.hook)\n",
    "\n",
    "if not isdir(cifar10_dataset_folder_path):\n",
    "    with tarfile.open('cifar-10-python.tar.gz') as tar:\n",
    "        tar.extractall()\n",
    "        tar.close()\n",
    "\n",
    "\n",
    "tests.test_folder_path(cifar10_dataset_folder_path)"
   ]
  },
  {
   "cell_type": "markdown",
   "metadata": {},
   "source": [
    "## Explore the Data\n",
    "The dataset is broken into batches to prevent your machine from running out of memory.  The CIFAR-10 dataset consists of 5 batches, named `data_batch_1`, `data_batch_2`, etc.. Each batch contains the labels and images that are one of the following:\n",
    "* airplane\n",
    "* automobile\n",
    "* bird\n",
    "* cat\n",
    "* deer\n",
    "* dog\n",
    "* frog\n",
    "* horse\n",
    "* ship\n",
    "* truck\n",
    "\n",
    "Understanding a dataset is part of making predictions on the data.  Play around with the code cell below by changing the `batch_id` and `sample_id`. The `batch_id` is the id for a batch (1-5). The `sample_id` is the id for a image and label pair in the batch.\n",
    "\n",
    "Ask yourself \"What are all possible labels?\", \"What is the range of values for the image data?\", \"Are the labels in order or random?\".  Answers to questions like these will help you preprocess the data and end up with better predictions."
   ]
  },
  {
   "cell_type": "code",
   "execution_count": 2,
   "metadata": {},
   "outputs": [
    {
     "name": "stdout",
     "output_type": "stream",
     "text": [
      "\n",
      "Stats of batch 1:\n",
      "Samples: 10000\n",
      "Label Counts: {0: 1005, 1: 974, 2: 1032, 3: 1016, 4: 999, 5: 937, 6: 1030, 7: 1001, 8: 1025, 9: 981}\n",
      "First 20 Labels: [6, 9, 9, 4, 1, 1, 2, 7, 8, 3, 4, 7, 7, 2, 9, 9, 9, 3, 2, 6]\n",
      "\n",
      "Example of Image 5:\n",
      "Image - Min Value: 0 Max Value: 252\n",
      "Image - Shape: (32, 32, 3)\n",
      "Label - Label Id: 1 Name: automobile\n"
     ]
    },
    {
     "data": {
      "image/png": "[encoded data removed]",
      "text/plain": [
       "<matplotlib.figure.Figure at 0x7fbab98d1048>"
      ]
     },
     "metadata": {
      "image/png": {
       "height": 250,
       "width": 253
      }
     },
     "output_type": "display_data"
    }
   ],
   "source": [
    "%matplotlib inline\n",
    "%config InlineBackend.figure_format = 'retina'\n",
    "\n",
    "import helper\n",
    "import numpy as np\n",
    "\n",
    "# Explore the dataset\n",
    "batch_id = 1\n",
    "sample_id = 5\n",
    "helper.display_stats(cifar10_dataset_folder_path, batch_id, sample_id)"
   ]
  },
  {
   "cell_type": "markdown",
   "metadata": {},
   "source": [
    "## Implement Preprocess Functions\n",
    "### Normalize\n",
    "In the cell below, implement the `normalize` function to take in image data, `x`, and return it as a normalized Numpy array. The values should be in the range of 0 to 1, inclusive.  The return object should be the same shape as `x`."
   ]
  },
  {
   "cell_type": "code",
   "execution_count": 3,
   "metadata": {},
   "outputs": [
    {
     "name": "stdout",
     "output_type": "stream",
     "text": [
      "Tests Passed\n"
     ]
    }
   ],
   "source": [
    "def normalize(x):\n",
    "    \"\"\"\n",
    "    Normalize a list of sample image data in the range of 0 to 1\n",
    "    : x: List of image data.  The image shape is (32, 32, 3)\n",
    "    : return: Numpy array of normalize data\n",
    "    \"\"\"\n",
    "    return x / 255\n",
    "\n",
    "\n",
    "\"\"\"\n",
    "DON'T MODIFY ANYTHING IN THIS CELL THAT IS BELOW THIS LINE\n",
    "\"\"\"\n",
    "tests.test_normalize(normalize)"
   ]
  },
  {
   "cell_type": "markdown",
   "metadata": {},
   "source": [
    "### One-hot encode\n",
    "Just like the previous code cell, you'll be implementing a function for preprocessing.  This time, you'll implement the `one_hot_encode` function. The input, `x`, are a list of labels.  Implement the function to return the list of labels as One-Hot encoded Numpy array.  The possible values for labels are 0 to 9. The one-hot encoding function should return the same encoding for each value between each call to `one_hot_encode`.  Make sure to save the map of encodings outside the function.\n",
    "\n",
    "Hint: Don't reinvent the wheel."
   ]
  },
  {
   "cell_type": "code",
   "execution_count": 4,
   "metadata": {},
   "outputs": [
    {
     "name": "stdout",
     "output_type": "stream",
     "text": [
      "Tests Passed\n"
     ]
    }
   ],
   "source": [
    "MAP = np.eye(10)\n",
    "\n",
    "def one_hot_encode(xs):\n",
    "    \"\"\"\n",
    "    One hot encode a list of sample labels. Return a one-hot encoded vector for each label.\n",
    "    : x: List of sample Labels\n",
    "    : return: Numpy array of one-hot encoded labels\n",
    "    \"\"\"\n",
    "    return np.vstack([MAP[x,:] for x in xs])\n",
    "\n",
    "\n",
    "\"\"\"\n",
    "DON'T MODIFY ANYTHING IN THIS CELL THAT IS BELOW THIS LINE\n",
    "\"\"\"\n",
    "tests.test_one_hot_encode(one_hot_encode)"
   ]
  },
  {
   "cell_type": "markdown",
   "metadata": {},
   "source": [
    "### Randomize Data\n",
    "As you saw from exploring the data above, the order of the samples are randomized.  It doesn't hurt to randomize it again, but you don't need to for this dataset."
   ]
  },
  {
   "cell_type": "markdown",
   "metadata": {},
   "source": [
    "## Preprocess all the data and save it\n",
    "Running the code cell below will preprocess all the CIFAR-10 data and save it to file. The code below also uses 10% of the training data for validation."
   ]
  },
  {
   "cell_type": "code",
   "execution_count": 5,
   "metadata": {
    "collapsed": true
   },
   "outputs": [],
   "source": [
    "\"\"\"\n",
    "DON'T MODIFY ANYTHING IN THIS CELL\n",
    "\"\"\"\n",
    "# Preprocess Training, Validation, and Testing Data\n",
    "helper.preprocess_and_save_data(cifar10_dataset_folder_path, normalize, one_hot_encode)"
   ]
  },
  {
   "cell_type": "markdown",
   "metadata": {},
   "source": [
    "# Check Point\n",
    "This is your first checkpoint.  If you ever decide to come back to this notebook or have to restart the notebook, you can start from here.  The preprocessed data has been saved to disk."
   ]
  },
  {
   "cell_type": "code",
   "execution_count": 6,
   "metadata": {
    "collapsed": true
   },
   "outputs": [],
   "source": [
    "\"\"\"\n",
    "DON'T MODIFY ANYTHING IN THIS CELL\n",
    "\"\"\"\n",
    "import pickle\n",
    "import problem_unittests as tests\n",
    "import helper\n",
    "\n",
    "# Load the Preprocessed Validation data\n",
    "valid_features, valid_labels = pickle.load(open('preprocess_validation.p', mode='rb'))"
   ]
  },
  {
   "cell_type": "markdown",
   "metadata": {},
   "source": [
    "## Build the network\n",
    "For the neural network, you'll build each layer into a function.  Most of the code you've seen has been outside of functions. To test your code more thoroughly, we require that you put each layer in a function.  This allows us to give you better feedback and test for simple mistakes using our unittests before you submit your project.\n",
    "\n",
    "If you're finding it hard to dedicate enough time for this course a week, we've provided a small shortcut to this part of the project. In the next couple of problems, you'll have the option to use [TensorFlow Layers](https://www.tensorflow.org/api_docs/python/tf/layers) or [TensorFlow Layers (contrib)](https://www.tensorflow.org/api_guides/python/contrib.layers) to build each layer, except \"Convolutional & Max Pooling\" layer.  TF Layers is similar to Keras's and TFLearn's abstraction to layers, so it's easy to pickup.\n",
    "\n",
    "If you would like to get the most of this course, try to solve all the problems without TF Layers.  Let's begin!\n",
    "### Input\n",
    "The neural network needs to read the image data, one-hot encoded labels, and dropout keep probability. Implement the following functions\n",
    "* Implement `neural_net_image_input`\n",
    " * Return a [TF Placeholder](https://www.tensorflow.org/api_docs/python/tf/placeholder)\n",
    " * Set the shape using `image_shape` with batch size set to `None`.\n",
    " * Name the TensorFlow placeholder \"x\" using the TensorFlow `name` parameter in the [TF Placeholder](https://www.tensorflow.org/api_docs/python/tf/placeholder).\n",
    "* Implement `neural_net_label_input`\n",
    " * Return a [TF Placeholder](https://www.tensorflow.org/api_docs/python/tf/placeholder)\n",
    " * Set the shape using `n_classes` with batch size set to `None`.\n",
    " * Name the TensorFlow placeholder \"y\" using the TensorFlow `name` parameter in the [TF Placeholder](https://www.tensorflow.org/api_docs/python/tf/placeholder).\n",
    "* Implement `neural_net_keep_prob_input`\n",
    " * Return a [TF Placeholder](https://www.tensorflow.org/api_docs/python/tf/placeholder) for dropout keep probability.\n",
    " * Name the TensorFlow placeholder \"keep_prob\" using the TensorFlow `name` parameter in the [TF Placeholder](https://www.tensorflow.org/api_docs/python/tf/placeholder).\n",
    "\n",
    "These names will be used at the end of the project to load your saved model.\n",
    "\n",
    "Note: `None` for shapes in TensorFlow allow for a dynamic size."
   ]
  },
  {
   "cell_type": "code",
   "execution_count": 7,
   "metadata": {},
   "outputs": [
    {
     "name": "stdout",
     "output_type": "stream",
     "text": [
      "Image Input Tests Passed.\n",
      "Label Input Tests Passed.\n",
      "Keep Prob Tests Passed.\n"
     ]
    }
   ],
   "source": [
    "import tensorflow as tf\n",
    "\n",
    "def neural_net_image_input(image_shape):\n",
    "    \"\"\"\n",
    "    Return a Tensor for a bach of image input\n",
    "    : image_shape: Shape of the images\n",
    "    : return: Tensor for image input.\n",
    "    \"\"\"\n",
    "    return tf.placeholder(tf.float32, shape=(None, *image_shape), name='x')\n",
    "\n",
    "\n",
    "def neural_net_label_input(n_classes):\n",
    "    \"\"\"\n",
    "    Return a Tensor for a batch of label input\n",
    "    : n_classes: Number of classes\n",
    "    : return: Tensor for label input.\n",
    "    \"\"\"\n",
    "    return tf.placeholder(tf.float32, shape=(None, n_classes), name='y')\n",
    "\n",
    "\n",
    "def neural_net_keep_prob_input():\n",
    "    \"\"\"\n",
    "    Return a Tensor for keep probability\n",
    "    : return: Tensor for keep probability.\n",
    "    \"\"\"\n",
    "    return tf.placeholder(tf.float32, name='keep_prob')\n",
    "\n",
    "\n",
    "\"\"\"\n",
    "DON'T MODIFY ANYTHING IN THIS CELL THAT IS BELOW THIS LINE\n",
    "\"\"\"\n",
    "tf.reset_default_graph()\n",
    "tests.test_nn_image_inputs(neural_net_image_input)\n",
    "tests.test_nn_label_inputs(neural_net_label_input)\n",
    "tests.test_nn_keep_prob_inputs(neural_net_keep_prob_input)"
   ]
  },
  {
   "cell_type": "markdown",
   "metadata": {},
   "source": [
    "### Convolution and Max Pooling Layer\n",
    "Convolution layers have a lot of success with images. For this code cell, you should implement the function `conv2d_maxpool` to apply convolution then max pooling:\n",
    "* Create the weight and bias using `conv_ksize`, `conv_num_outputs` and the shape of `x_tensor`.\n",
    "* Apply a convolution to `x_tensor` using weight and `conv_strides`.\n",
    " * We recommend you use same padding, but you're welcome to use any padding.\n",
    "* Add bias\n",
    "* Add a nonlinear activation to the convolution.\n",
    "* Apply Max Pooling using `pool_ksize` and `pool_strides`.\n",
    " * We recommend you use same padding, but you're welcome to use any padding.\n",
    "\n",
    "Note: You **can't** use [TensorFlow Layers](https://www.tensorflow.org/api_docs/python/tf/layers) or [TensorFlow Layers (contrib)](https://www.tensorflow.org/api_guides/python/contrib.layers) for this layer.  You're free to use any TensorFlow package for all the other layers."
   ]
  },
  {
   "cell_type": "code",
   "execution_count": 8,
   "metadata": {},
   "outputs": [
    {
     "name": "stdout",
     "output_type": "stream",
     "text": [
      "Tests Passed\n"
     ]
    }
   ],
   "source": [
    "MEAN_INIT = 0.001\n",
    "STDDEV_INIT = 0.05\n",
    "\n",
    "def conv2d_maxpool(x_tensor, conv_num_outputs, conv_ksize, conv_strides, pool_ksize, pool_strides):\n",
    "    \"\"\"\n",
    "    Apply convolution then max pooling to x_tensor\n",
    "    :param x_tensor: TensorFlow Tensor\n",
    "    :param conv_num_outputs: Number of outputs for the convolutional layer\n",
    "    :param conv_strides: Stride 2-D Tuple for convolution\n",
    "    :param pool_ksize: kernel size 2-D Tuple for pool\n",
    "    :param pool_strides: Stride 2-D Tuple for pool\n",
    "    :return: A tensor that represents convolution and max pooling of x_tensor\n",
    "    \"\"\"\n",
    "    x_batch, x_height, x_width, x_depth = x_tensor.shape\n",
    "    filter_weights = tf.Variable(tf.truncated_normal(mean=MEAN_INIT, stddev=STDDEV_INIT, shape=[*conv_ksize, x_depth.value, conv_num_outputs]))\n",
    "    bias = tf.Variable(tf.truncated_normal(mean=MEAN_INIT, stddev=STDDEV_INIT, shape=[conv_num_outputs]))\n",
    "    x_tensor = tf.nn.conv2d(x_tensor, filter_weights, strides=[1, *conv_strides, 1], padding='SAME')\n",
    "    x_tensor = tf.nn.bias_add(x_tensor, bias)\n",
    "    x_tensor = tf.nn.relu(x_tensor)\n",
    "    x_tensor = tf.nn.max_pool(x_tensor, ksize=[1, *pool_ksize, 1], strides=[1, *pool_strides, 1], padding='SAME')\n",
    "    return x_tensor \n",
    "\n",
    "\n",
    "\"\"\"\n",
    "DON'T MODIFY ANYTHING IN THIS CELL THAT IS BELOW THIS LINE\n",
    "\"\"\"\n",
    "tests.test_con_pool(conv2d_maxpool)"
   ]
  },
  {
   "cell_type": "markdown",
   "metadata": {},
   "source": [
    "### Flatten Layer\n",
    "Implement the `flatten` function to change the dimension of `x_tensor` from a 4-D tensor to a 2-D tensor.  The output should be the shape (*Batch Size*, *Flattened Image Size*). You can use [TensorFlow Layers](https://www.tensorflow.org/api_docs/python/tf/layers) or [TensorFlow Layers (contrib)](https://www.tensorflow.org/api_guides/python/contrib.layers) for this layer."
   ]
  },
  {
   "cell_type": "code",
   "execution_count": 9,
   "metadata": {},
   "outputs": [
    {
     "name": "stdout",
     "output_type": "stream",
     "text": [
      "Tests Passed\n"
     ]
    }
   ],
   "source": [
    "from functools import reduce\n",
    "\n",
    "def flatten(x_tensor):\n",
    "    \"\"\"\n",
    "    Flatten x_tensor to (Batch Size, Flattened Image Size)\n",
    "    : x_tensor: A tensor of size (Batch Size, ...), where ... are the image dimensions.\n",
    "    : return: A tensor of size (Batch Size, Flattened Image Size).\n",
    "    \"\"\"\n",
    "    # TODO: Implement Function\n",
    "    dim = reduce(lambda x, y: x*y, x_tensor.shape[1:])\n",
    "    return tf.reshape(x_tensor, [-1, dim.value])\n",
    "\n",
    "\n",
    "\"\"\"\n",
    "DON'T MODIFY ANYTHING IN THIS CELL THAT IS BELOW THIS LINE\n",
    "\"\"\"\n",
    "tests.test_flatten(flatten)"
   ]
  },
  {
   "cell_type": "markdown",
   "metadata": {},
   "source": [
    "### Fully-Connected Layer\n",
    "Implement the `fully_conn` function to apply a fully connected layer to `x_tensor` with the shape (*Batch Size*, *num_outputs*). You can use [TensorFlow Layers](https://www.tensorflow.org/api_docs/python/tf/layers) or [TensorFlow Layers (contrib)](https://www.tensorflow.org/api_guides/python/contrib.layers) for this layer."
   ]
  },
  {
   "cell_type": "code",
   "execution_count": 10,
   "metadata": {},
   "outputs": [
    {
     "name": "stdout",
     "output_type": "stream",
     "text": [
      "Tests Passed\n"
     ]
    }
   ],
   "source": [
    "def fully_conn(x_tensor, num_outputs):\n",
    "    \"\"\"\n",
    "    Apply a fully connected layer to x_tensor using weight and bias\n",
    "    : x_tensor: A 2-D tensor where the first dimension is batch size.\n",
    "    : num_outputs: The number of output that the new tensor should be.\n",
    "    : return: A 2-D tensor where the second dimension is num_outputs.\n",
    "    \"\"\"\n",
    "    weights = tf.Variable(tf.truncated_normal(mean=MEAN_INIT, stddev=STDDEV_INIT, shape=[x_tensor.shape[1].value, num_outputs]))\n",
    "    bias = tf.Variable(tf.truncated_normal(mean=MEAN_INIT, stddev=STDDEV_INIT, shape=[num_outputs]))\n",
    "    return tf.nn.relu(tf.add(tf.matmul(x_tensor, weights), bias))\n",
    "\n",
    "\n",
    "\"\"\"\n",
    "DON'T MODIFY ANYTHING IN THIS CELL THAT IS BELOW THIS LINE\n",
    "\"\"\"\n",
    "tests.test_fully_conn(fully_conn)"
   ]
  },
  {
   "cell_type": "markdown",
   "metadata": {},
   "source": [
    "### Output Layer\n",
    "Implement the `output` function to apply a fully connected layer to `x_tensor` with the shape (*Batch Size*, *num_outputs*). You can use [TensorFlow Layers](https://www.tensorflow.org/api_docs/python/tf/layers) or [TensorFlow Layers (contrib)](https://www.tensorflow.org/api_guides/python/contrib.layers) for this layer.\n",
    "\n",
    "Note: Activation, softmax, or cross entropy shouldn't be applied to this."
   ]
  },
  {
   "cell_type": "code",
   "execution_count": 11,
   "metadata": {},
   "outputs": [
    {
     "name": "stdout",
     "output_type": "stream",
     "text": [
      "Tests Passed\n"
     ]
    }
   ],
   "source": [
    "def output(x_tensor, num_outputs):\n",
    "    \"\"\"\n",
    "    Apply a output layer to x_tensor using weight and bias\n",
    "    : x_tensor: A 2-D tensor where the first dimension is batch size.\n",
    "    : num_outputs: The number of output that the new tensor should be.\n",
    "    : return: A 2-D tensor where the second dimension is num_outputs.\n",
    "    \"\"\"\n",
    "    # TODO: Implement Function\n",
    "    weights = tf.Variable(tf.truncated_normal(mean=MEAN_INIT, stddev=STDDEV_INIT, shape=[x_tensor.shape[1].value, num_outputs]))\n",
    "    bias = tf.Variable(tf.truncated_normal(mean=MEAN_INIT, stddev=STDDEV_INIT, shape=[num_outputs]))\n",
    "    return tf.add(tf.matmul(x_tensor, weights), bias)\n",
    "\n",
    "\n",
    "\"\"\"\n",
    "DON'T MODIFY ANYTHING IN THIS CELL THAT IS BELOW THIS LINE\n",
    "\"\"\"\n",
    "tests.test_output(output)"
   ]
  },
  {
   "cell_type": "markdown",
   "metadata": {},
   "source": [
    "### Create Convolutional Model\n",
    "Implement the function `conv_net` to create a convolutional neural network model. The function takes in a batch of images, `x`, and outputs logits.  Use the layers you created above to create this model:\n",
    "\n",
    "* Apply 1, 2, or 3 Convolution and Max Pool layers\n",
    "* Apply a Flatten Layer\n",
    "* Apply 1, 2, or 3 Fully Connected Layers\n",
    "* Apply an Output Layer\n",
    "* Return the output\n",
    "* Apply [TensorFlow's Dropout](https://www.tensorflow.org/api_docs/python/tf/nn/dropout) to one or more layers in the model using `keep_prob`. "
   ]
  },
  {
   "cell_type": "code",
   "execution_count": 12,
   "metadata": {},
   "outputs": [
    {
     "name": "stdout",
     "output_type": "stream",
     "text": [
      "Final shape is: 1024\n",
      "Final shape is: 1024\n",
      "Neural Network Built!\n"
     ]
    }
   ],
   "source": [
    "def conv_net(x, keep_prob):\n",
    "    \"\"\"\n",
    "    Create a convolutional neural network model\n",
    "    : x: Placeholder tensor that holds image data.\n",
    "    : keep_prob: Placeholder tensor that hold dropout keep probability.\n",
    "    : return: Tensor that represents logits\n",
    "    \"\"\"\n",
    "    # TODO: Apply 1, 2, or 3 Convolution and Max Pool layers\n",
    "    #    Play around with different number of outputs, kernel size and stride\n",
    "    # Function Definition from Above:\n",
    "    #    conv2d_maxpool(x_tensor, conv_num_outputs, conv_ksize, conv_strides, pool_ksize, pool_strides)\n",
    "    x = conv2d_maxpool(x, 16, (5, 5), (1, 1), (2, 2), (2, 2))\n",
    "    x = conv2d_maxpool(x, 32, (5, 5), (1, 1), (2, 2), (2, 2))\n",
    "    x = conv2d_maxpool(x, 64, (5, 5), (1, 1), (2, 2), (2, 2))\n",
    "    \n",
    "    # Apply a Flatten Layer\n",
    "    # Function Definition from Above:\n",
    "    x = flatten(x)\n",
    "    \n",
    "    print(\"Final shape is: {}\".format(x.shape[1]))\n",
    "    # TODO: Apply 1, 2, or 3 Fully Connected Layers\n",
    "    #    Play around with different number of outputs\n",
    "    # Function Definition from Above:\n",
    "    x = fully_conn(x, num_outputs=786)\n",
    "    x = fully_conn(x, num_outputs=786)\n",
    "    x = tf.nn.dropout(x, keep_prob)\n",
    "    \n",
    "    # Apply an Output Layer\n",
    "    #    Set this to the number of classes\n",
    "    # Function Definition from Above:\n",
    "    x = output(x, num_outputs=10)\n",
    "    \n",
    "    return x\n",
    "\n",
    "\n",
    "\"\"\"\n",
    "DON'T MODIFY ANYTHING IN THIS CELL THAT IS BELOW THIS LINE\n",
    "\"\"\"\n",
    "\n",
    "##############################\n",
    "## Build the Neural Network ##\n",
    "##############################\n",
    "\n",
    "# Remove previous weights, bias, inputs, etc..\n",
    "tf.reset_default_graph()\n",
    "\n",
    "# Inputs\n",
    "x = neural_net_image_input((32, 32, 3))\n",
    "y = neural_net_label_input(10)\n",
    "keep_prob = neural_net_keep_prob_input()\n",
    "\n",
    "# Model\n",
    "logits = conv_net(x, keep_prob)\n",
    "\n",
    "# Name logits Tensor, so that is can be loaded from disk after training\n",
    "logits = tf.identity(logits, name='logits')\n",
    "\n",
    "# Loss and Optimizer\n",
    "cost = tf.reduce_mean(tf.nn.softmax_cross_entropy_with_logits(logits=logits, labels=y))\n",
    "optimizer = tf.train.AdamOptimizer().minimize(cost)\n",
    "\n",
    "# Accuracy\n",
    "correct_pred = tf.equal(tf.argmax(logits, 1), tf.argmax(y, 1))\n",
    "accuracy = tf.reduce_mean(tf.cast(correct_pred, tf.float32), name='accuracy')\n",
    "\n",
    "tests.test_conv_net(conv_net)"
   ]
  },
  {
   "cell_type": "markdown",
   "metadata": {},
   "source": [
    "## Train the Neural Network\n",
    "### Single Optimization\n",
    "Implement the function `train_neural_network` to do a single optimization.  The optimization should use `optimizer` to optimize in `session` with a `feed_dict` of the following:\n",
    "* `x` for image input\n",
    "* `y` for labels\n",
    "* `keep_prob` for keep probability for dropout\n",
    "\n",
    "This function will be called for each batch, so `tf.global_variables_initializer()` has already been called.\n",
    "\n",
    "Note: Nothing needs to be returned. This function is only optimizing the neural network."
   ]
  },
  {
   "cell_type": "code",
   "execution_count": 13,
   "metadata": {},
   "outputs": [
    {
     "name": "stdout",
     "output_type": "stream",
     "text": [
      "Tests Passed\n"
     ]
    }
   ],
   "source": [
    "def train_neural_network(session, optimizer, keep_probability, feature_batch, label_batch):\n",
    "    \"\"\"\n",
    "    Optimize the session on a batch of images and labels\n",
    "    : session: Current TensorFlow session\n",
    "    : optimizer: TensorFlow optimizer function\n",
    "    : keep_probability: keep probability\n",
    "    : feature_batch: Batch of Numpy image data\n",
    "    : label_batch: Batch of Numpy label data\n",
    "    \"\"\"\n",
    "    feed_dict = {'keep_prob:0': keep_probability, 'x:0': feature_batch, 'y:0': label_batch}\n",
    "    session.run(optimizer, feed_dict=feed_dict)\n",
    "\n",
    "\"\"\"\n",
    "DON'T MODIFY ANYTHING IN THIS CELL THAT IS BELOW THIS LINE\n",
    "\"\"\"\n",
    "tests.test_train_nn(train_neural_network)"
   ]
  },
  {
   "cell_type": "markdown",
   "metadata": {},
   "source": [
    "### Show Stats\n",
    "Implement the function `print_stats` to print loss and validation accuracy.  Use the global variables `valid_features` and `valid_labels` to calculate validation accuracy.  Use a keep probability of `1.0` to calculate the loss and validation accuracy."
   ]
  },
  {
   "cell_type": "code",
   "execution_count": 14,
   "metadata": {
    "collapsed": true
   },
   "outputs": [],
   "source": [
    "def print_stats(session, feature_batch, label_batch, cost, accuracy):\n",
    "    \"\"\"\n",
    "    Print information about loss and validation accuracy\n",
    "    : session: Current TensorFlow session\n",
    "    : feature_batch: Batch of Numpy image data\n",
    "    : label_batch: Batch of Numpy label data\n",
    "    : cost: TensorFlow cost function\n",
    "    : accuracy: TensorFlow accuracy function\n",
    "    \"\"\"\n",
    "    feed_cost = {'keep_prob:0': 1.0, 'x:0': feature_batch, 'y:0': label_batch}\n",
    "    feed_valid = {'keep_prob:0': 1.0, 'x:0': valid_features, 'y:0': valid_labels}\n",
    "    cost = session.run(cost, feed_dict=feed_cost)\n",
    "    accuracy = session.run(accuracy, feed_dict=feed_valid)\n",
    "    print(\"cost: {}, accuracy: {}\".format(cost, accuracy))"
   ]
  },
  {
   "cell_type": "markdown",
   "metadata": {},
   "source": [
    "### Hyperparameters\n",
    "Tune the following parameters:\n",
    "* Set `epochs` to the number of iterations until the network stops learning or start overfitting\n",
    "* Set `batch_size` to the highest number that your machine has memory for.  Most people set them to common sizes of memory:\n",
    " * 64\n",
    " * 128\n",
    " * 256\n",
    " * ...\n",
    "* Set `keep_probability` to the probability of keeping a node using dropout"
   ]
  },
  {
   "cell_type": "code",
   "execution_count": 15,
   "metadata": {
    "collapsed": true
   },
   "outputs": [],
   "source": [
    "# TODO: Tune Parameters\n",
    "epochs = 50\n",
    "batch_size = 128\n",
    "keep_probability = 0.8"
   ]
  },
  {
   "cell_type": "markdown",
   "metadata": {},
   "source": [
    "### Train on a Single CIFAR-10 Batch\n",
    "Instead of training the neural network on all the CIFAR-10 batches of data, let's use a single batch. This should save time while you iterate on the model to get a better accuracy.  Once the final validation accuracy is 50% or greater, run the model on all the data in the next section."
   ]
  },
  {
   "cell_type": "code",
   "execution_count": 16,
   "metadata": {},
   "outputs": [
    {
     "name": "stdout",
     "output_type": "stream",
     "text": [
      "Checking the Training on a Single Batch...\n",
      "Epoch  1, CIFAR-10 Batch 1:  cost: 2.1699094772338867, accuracy: 0.32499998807907104\n",
      "Epoch  2, CIFAR-10 Batch 1:  cost: 1.7234305143356323, accuracy: 0.40859997272491455\n",
      "Epoch  3, CIFAR-10 Batch 1:  cost: 1.52043879032135, accuracy: 0.44999998807907104\n",
      "Epoch  4, CIFAR-10 Batch 1:  cost: 1.233446478843689, accuracy: 0.48659995198249817\n",
      "Epoch  5, CIFAR-10 Batch 1:  cost: 1.046926498413086, accuracy: 0.48939990997314453\n",
      "Epoch  6, CIFAR-10 Batch 1:  cost: 0.8217222094535828, accuracy: 0.5117999315261841\n",
      "Epoch  7, CIFAR-10 Batch 1:  cost: 0.6448747515678406, accuracy: 0.5133998990058899\n",
      "Epoch  8, CIFAR-10 Batch 1:  cost: 0.5237996578216553, accuracy: 0.5279999375343323\n",
      "Epoch  9, CIFAR-10 Batch 1:  cost: 0.38711726665496826, accuracy: 0.5219999551773071\n",
      "Epoch 10, CIFAR-10 Batch 1:  cost: 0.29806360602378845, accuracy: 0.499799907207489\n",
      "Epoch 11, CIFAR-10 Batch 1:  cost: 0.24883320927619934, accuracy: 0.5249999761581421\n",
      "Epoch 12, CIFAR-10 Batch 1:  cost: 0.14982770383358002, accuracy: 0.48819997906684875\n",
      "Epoch 13, CIFAR-10 Batch 1:  cost: 0.11372487246990204, accuracy: 0.5199999213218689\n",
      "Epoch 14, CIFAR-10 Batch 1:  cost: 0.05602502077817917, accuracy: 0.519599974155426\n",
      "Epoch 15, CIFAR-10 Batch 1:  cost: 0.04915362596511841, accuracy: 0.5121999979019165\n",
      "Epoch 16, CIFAR-10 Batch 1:  cost: 0.04312983900308609, accuracy: 0.5107999444007874\n",
      "Epoch 17, CIFAR-10 Batch 1:  cost: 0.020468389615416527, accuracy: 0.5023999214172363\n",
      "Epoch 18, CIFAR-10 Batch 1:  cost: 0.02235068380832672, accuracy: 0.5035999417304993\n",
      "Epoch 19, CIFAR-10 Batch 1:  cost: 0.010946452617645264, accuracy: 0.5127999782562256\n",
      "Epoch 20, CIFAR-10 Batch 1:  cost: 0.011123952455818653, accuracy: 0.5339999198913574\n",
      "Epoch 21, CIFAR-10 Batch 1:  cost: 0.016034428030252457, accuracy: 0.5135999321937561\n",
      "Epoch 22, CIFAR-10 Batch 1:  cost: 0.0027675405144691467, accuracy: 0.5229998826980591\n",
      "Epoch 23, CIFAR-10 Batch 1:  cost: 0.019238995388150215, accuracy: 0.5185999274253845\n",
      "Epoch 24, CIFAR-10 Batch 1:  cost: 0.01041540689766407, accuracy: 0.5311999917030334\n",
      "Epoch 25, CIFAR-10 Batch 1:  cost: 0.0025778436101973057, accuracy: 0.5211999416351318\n",
      "Epoch 26, CIFAR-10 Batch 1:  cost: 0.005863220896571875, accuracy: 0.5219999551773071\n",
      "Epoch 27, CIFAR-10 Batch 1:  cost: 0.003162784967571497, accuracy: 0.5285999774932861\n",
      "Epoch 28, CIFAR-10 Batch 1:  cost: 0.0012585567310452461, accuracy: 0.5315999388694763\n",
      "Epoch 29, CIFAR-10 Batch 1:  cost: 0.002570943208411336, accuracy: 0.5215999484062195\n",
      "Epoch 30, CIFAR-10 Batch 1:  cost: 0.002260528737679124, accuracy: 0.5339999198913574\n",
      "Epoch 31, CIFAR-10 Batch 1:  cost: 0.0009721794631332159, accuracy: 0.5341999530792236\n",
      "Epoch 32, CIFAR-10 Batch 1:  cost: 0.0011802440276369452, accuracy: 0.5321999192237854\n",
      "Epoch 33, CIFAR-10 Batch 1:  cost: 0.002769914921373129, accuracy: 0.5173999071121216\n",
      "Epoch 34, CIFAR-10 Batch 1:  cost: 0.0022980794310569763, accuracy: 0.5323999524116516\n",
      "Epoch 35, CIFAR-10 Batch 1:  cost: 0.0013951414730399847, accuracy: 0.5295999050140381\n",
      "Epoch 36, CIFAR-10 Batch 1:  cost: 0.001645856536924839, accuracy: 0.5257999300956726\n",
      "Epoch 37, CIFAR-10 Batch 1:  cost: 0.0005550635978579521, accuracy: 0.5251999497413635\n",
      "Epoch 38, CIFAR-10 Batch 1:  cost: 0.00224097166210413, accuracy: 0.5399999618530273\n",
      "Epoch 39, CIFAR-10 Batch 1:  cost: 0.0003620542702265084, accuracy: 0.5259999632835388\n",
      "Epoch 40, CIFAR-10 Batch 1:  cost: 0.00038803802453912795, accuracy: 0.5437999367713928\n",
      "Epoch 41, CIFAR-10 Batch 1:  cost: 0.0015916012926027179, accuracy: 0.5303999781608582\n",
      "Epoch 42, CIFAR-10 Batch 1:  cost: 0.0011292240815237164, accuracy: 0.5383999943733215\n",
      "Epoch 43, CIFAR-10 Batch 1:  cost: 0.0012953014811500907, accuracy: 0.5395999550819397\n",
      "Epoch 44, CIFAR-10 Batch 1:  cost: 0.0015945156337693334, accuracy: 0.5341998934745789\n",
      "Epoch 45, CIFAR-10 Batch 1:  cost: 0.00030876483651809394, accuracy: 0.5245999097824097\n",
      "Epoch 46, CIFAR-10 Batch 1:  cost: 0.000860599975567311, accuracy: 0.5289999842643738\n",
      "Epoch 47, CIFAR-10 Batch 1:  cost: 0.00013559269427787513, accuracy: 0.5275999307632446\n",
      "Epoch 48, CIFAR-10 Batch 1:  cost: 0.0003329726168885827, accuracy: 0.53739994764328\n",
      "Epoch 49, CIFAR-10 Batch 1:  cost: 0.0009096433059312403, accuracy: 0.5257999300956726\n",
      "Epoch 50, CIFAR-10 Batch 1:  cost: 0.00028324450249783695, accuracy: 0.5317999720573425\n"
     ]
    }
   ],
   "source": [
    "\"\"\"\n",
    "DON'T MODIFY ANYTHING IN THIS CELL\n",
    "\"\"\"\n",
    "print('Checking the Training on a Single Batch...')\n",
    "with tf.Session() as sess:\n",
    "    # Initializing the variables\n",
    "    sess.run(tf.global_variables_initializer())\n",
    "    \n",
    "    # Training cycle\n",
    "    for epoch in range(epochs):\n",
    "        batch_i = 1\n",
    "        for batch_features, batch_labels in helper.load_preprocess_training_batch(batch_i, batch_size):\n",
    "            train_neural_network(sess, optimizer, keep_probability, batch_features, batch_labels)\n",
    "        print('Epoch {:>2}, CIFAR-10 Batch {}:  '.format(epoch + 1, batch_i), end='')\n",
    "        print_stats(sess, batch_features, batch_labels, cost, accuracy)"
   ]
  },
  {
   "cell_type": "markdown",
   "metadata": {},
   "source": [
    "### Fully Train the Model\n",
    "Now that you got a good accuracy with a single CIFAR-10 batch, try it with all five batches."
   ]
  },
  {
   "cell_type": "code",
   "execution_count": 17,
   "metadata": {},
   "outputs": [
    {
     "name": "stdout",
     "output_type": "stream",
     "text": [
      "Training...\n",
      "Epoch  1, CIFAR-10 Batch 1:  cost: 2.081765651702881, accuracy: 0.32420000433921814\n",
      "Epoch  1, CIFAR-10 Batch 2:  cost: 1.6279206275939941, accuracy: 0.4007999897003174\n",
      "Epoch  1, CIFAR-10 Batch 3:  cost: 1.3677334785461426, accuracy: 0.4115999937057495\n",
      "Epoch  1, CIFAR-10 Batch 4:  cost: 1.341461181640625, accuracy: 0.46299996972084045\n",
      "Epoch  1, CIFAR-10 Batch 5:  cost: 1.2860878705978394, accuracy: 0.5215999484062195\n",
      "Epoch  2, CIFAR-10 Batch 1:  cost: 1.2841534614562988, accuracy: 0.5263999700546265\n",
      "Epoch  2, CIFAR-10 Batch 2:  cost: 1.1945600509643555, accuracy: 0.4999999403953552\n",
      "Epoch  2, CIFAR-10 Batch 3:  cost: 0.8958983421325684, accuracy: 0.556399941444397\n",
      "Epoch  2, CIFAR-10 Batch 4:  cost: 0.9609057903289795, accuracy: 0.5831999182701111\n",
      "Epoch  2, CIFAR-10 Batch 5:  cost: 0.7859175801277161, accuracy: 0.616399884223938\n",
      "Epoch  3, CIFAR-10 Batch 1:  cost: 0.964179277420044, accuracy: 0.602199912071228\n",
      "Epoch  3, CIFAR-10 Batch 2:  cost: 0.7680435180664062, accuracy: 0.5891999006271362\n",
      "Epoch  3, CIFAR-10 Batch 3:  cost: 0.6257102489471436, accuracy: 0.6175999045372009\n",
      "Epoch  3, CIFAR-10 Batch 4:  cost: 0.7497965693473816, accuracy: 0.6177999377250671\n",
      "Epoch  3, CIFAR-10 Batch 5:  cost: 0.4858822226524353, accuracy: 0.6477999091148376\n",
      "Epoch  4, CIFAR-10 Batch 1:  cost: 0.7039936780929565, accuracy: 0.6331998705863953\n",
      "Epoch  4, CIFAR-10 Batch 2:  cost: 0.5349743366241455, accuracy: 0.6459999084472656\n",
      "Epoch  4, CIFAR-10 Batch 3:  cost: 0.4272494316101074, accuracy: 0.6391999125480652\n",
      "Epoch  4, CIFAR-10 Batch 4:  cost: 0.47097474336624146, accuracy: 0.654999852180481\n",
      "Epoch  4, CIFAR-10 Batch 5:  cost: 0.38026198744773865, accuracy: 0.6579998731613159\n",
      "Epoch  5, CIFAR-10 Batch 1:  cost: 0.4742152690887451, accuracy: 0.6483999490737915\n",
      "Epoch  5, CIFAR-10 Batch 2:  cost: 0.34195780754089355, accuracy: 0.6713998317718506\n",
      "Epoch  5, CIFAR-10 Batch 3:  cost: 0.2841631770133972, accuracy: 0.6439999341964722\n",
      "Epoch  5, CIFAR-10 Batch 4:  cost: 0.3819568157196045, accuracy: 0.6547999382019043\n",
      "Epoch  5, CIFAR-10 Batch 5:  cost: 0.29477986693382263, accuracy: 0.63319993019104\n",
      "Epoch  6, CIFAR-10 Batch 1:  cost: 0.2992624044418335, accuracy: 0.6601998805999756\n",
      "Epoch  6, CIFAR-10 Batch 2:  cost: 0.2572384476661682, accuracy: 0.6677998900413513\n",
      "Epoch  6, CIFAR-10 Batch 3:  cost: 0.2385404109954834, accuracy: 0.6447998881340027\n",
      "Epoch  6, CIFAR-10 Batch 4:  cost: 0.23439770936965942, accuracy: 0.6727998852729797\n",
      "Epoch  6, CIFAR-10 Batch 5:  cost: 0.2072754204273224, accuracy: 0.6413998603820801\n",
      "Epoch  7, CIFAR-10 Batch 1:  cost: 0.22151730954647064, accuracy: 0.6731998324394226\n",
      "Epoch  7, CIFAR-10 Batch 2:  cost: 0.19738197326660156, accuracy: 0.6653999090194702\n",
      "Epoch  7, CIFAR-10 Batch 3:  cost: 0.142572820186615, accuracy: 0.6529998779296875\n",
      "Epoch  7, CIFAR-10 Batch 4:  cost: 0.14475305378437042, accuracy: 0.6573998332023621\n",
      "Epoch  7, CIFAR-10 Batch 5:  cost: 0.16646936535835266, accuracy: 0.6499999165534973\n",
      "Epoch  8, CIFAR-10 Batch 1:  cost: 0.14786683022975922, accuracy: 0.6717997789382935\n",
      "Epoch  8, CIFAR-10 Batch 2:  cost: 0.1255062222480774, accuracy: 0.6451998949050903\n",
      "Epoch  8, CIFAR-10 Batch 3:  cost: 0.06647811084985733, accuracy: 0.655799925327301\n",
      "Epoch  8, CIFAR-10 Batch 4:  cost: 0.12362289428710938, accuracy: 0.6535998582839966\n",
      "Epoch  8, CIFAR-10 Batch 5:  cost: 0.18409675359725952, accuracy: 0.6207998394966125\n",
      "Epoch  9, CIFAR-10 Batch 1:  cost: 0.16087909042835236, accuracy: 0.6587998867034912\n",
      "Epoch  9, CIFAR-10 Batch 2:  cost: 0.09150812029838562, accuracy: 0.6183998584747314\n",
      "Epoch  9, CIFAR-10 Batch 3:  cost: 0.05887722223997116, accuracy: 0.6631999015808105\n",
      "Epoch  9, CIFAR-10 Batch 4:  cost: 0.1154419481754303, accuracy: 0.6495999097824097\n",
      "Epoch  9, CIFAR-10 Batch 5:  cost: 0.06321349740028381, accuracy: 0.6415998935699463\n",
      "Epoch 10, CIFAR-10 Batch 1:  cost: 0.09150215983390808, accuracy: 0.6523998975753784\n",
      "Epoch 10, CIFAR-10 Batch 2:  cost: 0.03430824726819992, accuracy: 0.6601998805999756\n",
      "Epoch 10, CIFAR-10 Batch 3:  cost: 0.05284249782562256, accuracy: 0.6479999423027039\n",
      "Epoch 10, CIFAR-10 Batch 4:  cost: 0.046535879373550415, accuracy: 0.6333999037742615\n",
      "Epoch 10, CIFAR-10 Batch 5:  cost: 0.05873936414718628, accuracy: 0.6467999219894409\n",
      "Epoch 11, CIFAR-10 Batch 1:  cost: 0.044902410358190536, accuracy: 0.6733999252319336\n",
      "Epoch 11, CIFAR-10 Batch 2:  cost: 0.046194739639759064, accuracy: 0.6551998853683472\n",
      "Epoch 11, CIFAR-10 Batch 3:  cost: 0.018240543082356453, accuracy: 0.6385998725891113\n",
      "Epoch 11, CIFAR-10 Batch 4:  cost: 0.020774001255631447, accuracy: 0.6427998542785645\n",
      "Epoch 11, CIFAR-10 Batch 5:  cost: 0.038431357592344284, accuracy: 0.6507999300956726\n",
      "Epoch 12, CIFAR-10 Batch 1:  cost: 0.015251804143190384, accuracy: 0.668799877166748\n",
      "Epoch 12, CIFAR-10 Batch 2:  cost: 0.024236541241407394, accuracy: 0.6355998516082764\n",
      "Epoch 12, CIFAR-10 Batch 3:  cost: 0.010416897013783455, accuracy: 0.6545999050140381\n",
      "Epoch 12, CIFAR-10 Batch 4:  cost: 0.03880930319428444, accuracy: 0.6595999002456665\n",
      "Epoch 12, CIFAR-10 Batch 5:  cost: 0.015152337960898876, accuracy: 0.6527999043464661\n",
      "Epoch 13, CIFAR-10 Batch 1:  cost: 0.021958282217383385, accuracy: 0.6533998847007751\n",
      "Epoch 13, CIFAR-10 Batch 2:  cost: 0.030237477272748947, accuracy: 0.6565998792648315\n",
      "Epoch 13, CIFAR-10 Batch 3:  cost: 0.03188657760620117, accuracy: 0.6515998840332031\n",
      "Epoch 13, CIFAR-10 Batch 4:  cost: 0.02955685555934906, accuracy: 0.6353998780250549\n",
      "Epoch 13, CIFAR-10 Batch 5:  cost: 0.008381684310734272, accuracy: 0.6619998812675476\n",
      "Epoch 14, CIFAR-10 Batch 1:  cost: 0.019419891759753227, accuracy: 0.6557998657226562\n",
      "Epoch 14, CIFAR-10 Batch 2:  cost: 0.026664191856980324, accuracy: 0.6351999044418335\n",
      "Epoch 14, CIFAR-10 Batch 3:  cost: 0.01838560402393341, accuracy: 0.6283998489379883\n",
      "Epoch 14, CIFAR-10 Batch 4:  cost: 0.014982996508479118, accuracy: 0.6557998657226562\n",
      "Epoch 14, CIFAR-10 Batch 5:  cost: 0.010333364829421043, accuracy: 0.6639998555183411\n",
      "Epoch 15, CIFAR-10 Batch 1:  cost: 0.020200366154313087, accuracy: 0.6505998373031616\n",
      "Epoch 15, CIFAR-10 Batch 2:  cost: 0.01353576872497797, accuracy: 0.6541998982429504\n",
      "Epoch 15, CIFAR-10 Batch 3:  cost: 0.04378342255949974, accuracy: 0.6607998609542847\n",
      "Epoch 15, CIFAR-10 Batch 4:  cost: 0.009637927636504173, accuracy: 0.665199875831604\n",
      "Epoch 15, CIFAR-10 Batch 5:  cost: 0.02128523215651512, accuracy: 0.6543998718261719\n",
      "Epoch 16, CIFAR-10 Batch 1:  cost: 0.00537183927372098, accuracy: 0.6393998861312866\n",
      "Epoch 16, CIFAR-10 Batch 2:  cost: 0.010428853332996368, accuracy: 0.6637998819351196\n",
      "Epoch 16, CIFAR-10 Batch 3:  cost: 0.01009200420230627, accuracy: 0.6759998798370361\n",
      "Epoch 16, CIFAR-10 Batch 4:  cost: 0.01287348847836256, accuracy: 0.6631999015808105\n",
      "Epoch 16, CIFAR-10 Batch 5:  cost: 0.006534329615533352, accuracy: 0.6387999057769775\n",
      "Epoch 17, CIFAR-10 Batch 1:  cost: 0.015682995319366455, accuracy: 0.6575998663902283\n",
      "Epoch 17, CIFAR-10 Batch 2:  cost: 0.00548821734264493, accuracy: 0.6511998772621155\n",
      "Epoch 17, CIFAR-10 Batch 3:  cost: 0.0027962331660091877, accuracy: 0.6749998331069946\n",
      "Epoch 17, CIFAR-10 Batch 4:  cost: 0.003364602569490671, accuracy: 0.6503998637199402\n",
      "Epoch 17, CIFAR-10 Batch 5:  cost: 0.0020117871463298798, accuracy: 0.6635998487472534\n",
      "Epoch 18, CIFAR-10 Batch 1:  cost: 0.0022653727792203426, accuracy: 0.6547999382019043\n",
      "Epoch 18, CIFAR-10 Batch 2:  cost: 0.005864589009433985, accuracy: 0.6499999165534973\n",
      "Epoch 18, CIFAR-10 Batch 3:  cost: 0.0009472811361774802, accuracy: 0.6741999387741089\n",
      "Epoch 18, CIFAR-10 Batch 4:  cost: 0.010227296501398087, accuracy: 0.6453999280929565\n",
      "Epoch 18, CIFAR-10 Batch 5:  cost: 0.0029902691021561623, accuracy: 0.6591998338699341\n",
      "Epoch 19, CIFAR-10 Batch 1:  cost: 0.01412728801369667, accuracy: 0.6439999341964722\n",
      "Epoch 19, CIFAR-10 Batch 2:  cost: 0.004006502218544483, accuracy: 0.6409999132156372\n",
      "Epoch 19, CIFAR-10 Batch 3:  cost: 0.0031724702566862106, accuracy: 0.6767998933792114\n",
      "Epoch 19, CIFAR-10 Batch 4:  cost: 0.0032136361114680767, accuracy: 0.6465998888015747\n",
      "Epoch 19, CIFAR-10 Batch 5:  cost: 0.003297402523458004, accuracy: 0.6663998961448669\n",
      "Epoch 20, CIFAR-10 Batch 1:  cost: 0.0020192074589431286, accuracy: 0.651999831199646\n",
      "Epoch 20, CIFAR-10 Batch 2:  cost: 0.0030663858633488417, accuracy: 0.6523998379707336\n"
     ]
    },
    {
     "name": "stdout",
     "output_type": "stream",
     "text": [
      "Epoch 20, CIFAR-10 Batch 3:  cost: 0.00358285172842443, accuracy: 0.6661998629570007\n",
      "Epoch 20, CIFAR-10 Batch 4:  cost: 0.0030480797868222, accuracy: 0.6603999137878418\n",
      "Epoch 20, CIFAR-10 Batch 5:  cost: 0.0010558932553976774, accuracy: 0.6541998982429504\n",
      "Epoch 21, CIFAR-10 Batch 1:  cost: 0.001262099714949727, accuracy: 0.6565999388694763\n",
      "Epoch 21, CIFAR-10 Batch 2:  cost: 0.004560875706374645, accuracy: 0.6623998880386353\n",
      "Epoch 21, CIFAR-10 Batch 3:  cost: 0.0010148350847885013, accuracy: 0.6709998846054077\n",
      "Epoch 21, CIFAR-10 Batch 4:  cost: 0.0006688436260446906, accuracy: 0.663399875164032\n",
      "Epoch 21, CIFAR-10 Batch 5:  cost: 0.0028863740153610706, accuracy: 0.6561999320983887\n",
      "Epoch 22, CIFAR-10 Batch 1:  cost: 0.0012722634710371494, accuracy: 0.655799925327301\n",
      "Epoch 22, CIFAR-10 Batch 2:  cost: 0.019645946100354195, accuracy: 0.6475998759269714\n",
      "Epoch 22, CIFAR-10 Batch 3:  cost: 0.002575176302343607, accuracy: 0.6617999076843262\n",
      "Epoch 22, CIFAR-10 Batch 4:  cost: 0.0012952894903719425, accuracy: 0.6481998562812805\n",
      "Epoch 22, CIFAR-10 Batch 5:  cost: 0.002865064889192581, accuracy: 0.6601998805999756\n",
      "Epoch 23, CIFAR-10 Batch 1:  cost: 0.0016358199063688517, accuracy: 0.6673998832702637\n",
      "Epoch 23, CIFAR-10 Batch 2:  cost: 0.01709158904850483, accuracy: 0.6335999369621277\n",
      "Epoch 23, CIFAR-10 Batch 3:  cost: 0.004425295628607273, accuracy: 0.6649998426437378\n",
      "Epoch 23, CIFAR-10 Batch 4:  cost: 0.0015658667543902993, accuracy: 0.6597998738288879\n",
      "Epoch 23, CIFAR-10 Batch 5:  cost: 0.000700032920576632, accuracy: 0.6589998602867126\n",
      "Epoch 24, CIFAR-10 Batch 1:  cost: 0.0026236833073198795, accuracy: 0.6667998433113098\n",
      "Epoch 24, CIFAR-10 Batch 2:  cost: 0.0005419573280960321, accuracy: 0.6531999111175537\n",
      "Epoch 24, CIFAR-10 Batch 3:  cost: 0.005157139152288437, accuracy: 0.6681998372077942\n",
      "Epoch 24, CIFAR-10 Batch 4:  cost: 0.0003343445132486522, accuracy: 0.6667999029159546\n",
      "Epoch 24, CIFAR-10 Batch 5:  cost: 0.005975376348942518, accuracy: 0.6761998534202576\n",
      "Epoch 25, CIFAR-10 Batch 1:  cost: 0.003462968859821558, accuracy: 0.6647998690605164\n",
      "Epoch 25, CIFAR-10 Batch 2:  cost: 0.0025356486439704895, accuracy: 0.6585999131202698\n",
      "Epoch 25, CIFAR-10 Batch 3:  cost: 0.001316636218689382, accuracy: 0.675399899482727\n",
      "Epoch 25, CIFAR-10 Batch 4:  cost: 0.0009536528959870338, accuracy: 0.6461999416351318\n",
      "Epoch 25, CIFAR-10 Batch 5:  cost: 0.0013177685905247927, accuracy: 0.6723998785018921\n",
      "Epoch 26, CIFAR-10 Batch 1:  cost: 0.007239106111228466, accuracy: 0.6671998500823975\n",
      "Epoch 26, CIFAR-10 Batch 2:  cost: 0.000696530332788825, accuracy: 0.650999903678894\n",
      "Epoch 26, CIFAR-10 Batch 3:  cost: 0.00120792374946177, accuracy: 0.6769998073577881\n",
      "Epoch 26, CIFAR-10 Batch 4:  cost: 0.000977282878011465, accuracy: 0.6563998460769653\n",
      "Epoch 26, CIFAR-10 Batch 5:  cost: 0.001504426123574376, accuracy: 0.668199896812439\n",
      "Epoch 27, CIFAR-10 Batch 1:  cost: 0.004486536607146263, accuracy: 0.6557998657226562\n",
      "Epoch 27, CIFAR-10 Batch 2:  cost: 0.00031988986302167177, accuracy: 0.6631999015808105\n",
      "Epoch 27, CIFAR-10 Batch 3:  cost: 0.006335660815238953, accuracy: 0.6731998920440674\n",
      "Epoch 27, CIFAR-10 Batch 4:  cost: 0.0009590057306922972, accuracy: 0.6615999341011047\n",
      "Epoch 27, CIFAR-10 Batch 5:  cost: 0.0017317046876996756, accuracy: 0.6619998812675476\n",
      "Epoch 28, CIFAR-10 Batch 1:  cost: 0.001945376512594521, accuracy: 0.6671998500823975\n",
      "Epoch 28, CIFAR-10 Batch 2:  cost: 0.0004155909118708223, accuracy: 0.6641998887062073\n",
      "Epoch 28, CIFAR-10 Batch 3:  cost: 0.002181221032515168, accuracy: 0.6767998933792114\n",
      "Epoch 28, CIFAR-10 Batch 4:  cost: 0.00022401168826036155, accuracy: 0.6703998446464539\n",
      "Epoch 28, CIFAR-10 Batch 5:  cost: 0.00037273799534887075, accuracy: 0.6587998270988464\n",
      "Epoch 29, CIFAR-10 Batch 1:  cost: 0.001952687045559287, accuracy: 0.6583998799324036\n",
      "Epoch 29, CIFAR-10 Batch 2:  cost: 0.0013310362119227648, accuracy: 0.6699998378753662\n",
      "Epoch 29, CIFAR-10 Batch 3:  cost: 1.3109435712976847e-05, accuracy: 0.6775999665260315\n",
      "Epoch 29, CIFAR-10 Batch 4:  cost: 0.0008991375216282904, accuracy: 0.663399875164032\n",
      "Epoch 29, CIFAR-10 Batch 5:  cost: 0.000278695224551484, accuracy: 0.6709998846054077\n",
      "Epoch 30, CIFAR-10 Batch 1:  cost: 0.0018247500993311405, accuracy: 0.66159987449646\n",
      "Epoch 30, CIFAR-10 Batch 2:  cost: 0.00011083766003139317, accuracy: 0.6663998961448669\n",
      "Epoch 30, CIFAR-10 Batch 3:  cost: 0.0004497970803640783, accuracy: 0.6723998785018921\n",
      "Epoch 30, CIFAR-10 Batch 4:  cost: 0.0009265451226383448, accuracy: 0.6639999151229858\n",
      "Epoch 30, CIFAR-10 Batch 5:  cost: 0.0013079869095236063, accuracy: 0.6713998913764954\n",
      "Epoch 31, CIFAR-10 Batch 1:  cost: 0.0009299680241383612, accuracy: 0.6523998975753784\n",
      "Epoch 31, CIFAR-10 Batch 2:  cost: 0.0010680006816983223, accuracy: 0.6579998731613159\n",
      "Epoch 31, CIFAR-10 Batch 3:  cost: 0.0005327708786353469, accuracy: 0.6787998676300049\n",
      "Epoch 31, CIFAR-10 Batch 4:  cost: 0.0020722472108900547, accuracy: 0.6697998642921448\n",
      "Epoch 31, CIFAR-10 Batch 5:  cost: 0.0006507779471576214, accuracy: 0.6725999116897583\n",
      "Epoch 32, CIFAR-10 Batch 1:  cost: 0.003653966821730137, accuracy: 0.6647998690605164\n",
      "Epoch 32, CIFAR-10 Batch 2:  cost: 0.0003084433265030384, accuracy: 0.6471998691558838\n",
      "Epoch 32, CIFAR-10 Batch 3:  cost: 0.0009151818230748177, accuracy: 0.6817998290061951\n",
      "Epoch 32, CIFAR-10 Batch 4:  cost: 0.0008873561746440828, accuracy: 0.673599898815155\n",
      "Epoch 32, CIFAR-10 Batch 5:  cost: 0.0019117477349936962, accuracy: 0.6687999367713928\n",
      "Epoch 33, CIFAR-10 Batch 1:  cost: 0.00017270073294639587, accuracy: 0.6659998893737793\n",
      "Epoch 33, CIFAR-10 Batch 2:  cost: 8.673308184370399e-05, accuracy: 0.6533998250961304\n",
      "Epoch 33, CIFAR-10 Batch 3:  cost: 0.0003855826216749847, accuracy: 0.6785998344421387\n",
      "Epoch 33, CIFAR-10 Batch 4:  cost: 0.0009284897241741419, accuracy: 0.6681998372077942\n",
      "Epoch 33, CIFAR-10 Batch 5:  cost: 0.0018919025314971805, accuracy: 0.6693998575210571\n",
      "Epoch 34, CIFAR-10 Batch 1:  cost: 0.00019614826305769384, accuracy: 0.665199875831604\n",
      "Epoch 34, CIFAR-10 Batch 2:  cost: 3.44062500516884e-05, accuracy: 0.6581999063491821\n",
      "Epoch 34, CIFAR-10 Batch 3:  cost: 0.0010537570342421532, accuracy: 0.6723998785018921\n",
      "Epoch 34, CIFAR-10 Batch 4:  cost: 0.00021862790163140744, accuracy: 0.6777999401092529\n",
      "Epoch 34, CIFAR-10 Batch 5:  cost: 0.0012114540440961719, accuracy: 0.6749997735023499\n",
      "Epoch 35, CIFAR-10 Batch 1:  cost: 4.536380947683938e-05, accuracy: 0.6681998372077942\n",
      "Epoch 35, CIFAR-10 Batch 2:  cost: 0.002416092436760664, accuracy: 0.6601998805999756\n",
      "Epoch 35, CIFAR-10 Batch 3:  cost: 0.00112322554923594, accuracy: 0.6833998560905457\n",
      "Epoch 35, CIFAR-10 Batch 4:  cost: 0.0006596658495254815, accuracy: 0.6607999205589294\n",
      "Epoch 35, CIFAR-10 Batch 5:  cost: 0.0022672927007079124, accuracy: 0.6697998642921448\n",
      "Epoch 36, CIFAR-10 Batch 1:  cost: 0.0005984609597362578, accuracy: 0.6737998723983765\n",
      "Epoch 36, CIFAR-10 Batch 2:  cost: 6.027195558999665e-05, accuracy: 0.6709998846054077\n",
      "Epoch 36, CIFAR-10 Batch 3:  cost: 0.00020018729264847934, accuracy: 0.6823999285697937\n",
      "Epoch 36, CIFAR-10 Batch 4:  cost: 0.00010828280937857926, accuracy: 0.666999876499176\n",
      "Epoch 36, CIFAR-10 Batch 5:  cost: 0.0012446362525224686, accuracy: 0.655799925327301\n",
      "Epoch 37, CIFAR-10 Batch 1:  cost: 0.0003825891762971878, accuracy: 0.6745998859405518\n",
      "Epoch 37, CIFAR-10 Batch 2:  cost: 0.005843034945428371, accuracy: 0.64739990234375\n",
      "Epoch 37, CIFAR-10 Batch 3:  cost: 0.0018433111254125834, accuracy: 0.6723998785018921\n",
      "Epoch 37, CIFAR-10 Batch 4:  cost: 0.0003297598159406334, accuracy: 0.6701999306678772\n",
      "Epoch 37, CIFAR-10 Batch 5:  cost: 0.0012530457461252809, accuracy: 0.6659998893737793\n",
      "Epoch 38, CIFAR-10 Batch 1:  cost: 8.813074964564294e-05, accuracy: 0.6675998568534851\n",
      "Epoch 38, CIFAR-10 Batch 2:  cost: 1.8596298332340666e-06, accuracy: 0.6765998601913452\n",
      "Epoch 38, CIFAR-10 Batch 3:  cost: 0.0012678421335294843, accuracy: 0.6787998676300049\n",
      "Epoch 38, CIFAR-10 Batch 4:  cost: 0.00018818487296812236, accuracy: 0.6789998412132263\n",
      "Epoch 38, CIFAR-10 Batch 5:  cost: 0.004447773098945618, accuracy: 0.6645998358726501\n",
      "Epoch 39, CIFAR-10 Batch 1:  cost: 0.0029062482062727213, accuracy: 0.6663998365402222\n",
      "Epoch 39, CIFAR-10 Batch 2:  cost: 0.0011660020099952817, accuracy: 0.6751998662948608\n"
     ]
    },
    {
     "name": "stdout",
     "output_type": "stream",
     "text": [
      "Epoch 39, CIFAR-10 Batch 3:  cost: 0.00043398773414082825, accuracy: 0.6809998750686646\n",
      "Epoch 39, CIFAR-10 Batch 4:  cost: 0.0007366641075350344, accuracy: 0.6701998114585876\n",
      "Epoch 39, CIFAR-10 Batch 5:  cost: 0.0008308159303851426, accuracy: 0.6737998723983765\n",
      "Epoch 40, CIFAR-10 Batch 1:  cost: 0.0004924879176542163, accuracy: 0.6751998662948608\n",
      "Epoch 40, CIFAR-10 Batch 2:  cost: 0.0015569142997264862, accuracy: 0.6659998297691345\n",
      "Epoch 40, CIFAR-10 Batch 3:  cost: 0.001148395473137498, accuracy: 0.6763998866081238\n",
      "Epoch 40, CIFAR-10 Batch 4:  cost: 0.0007512452430091798, accuracy: 0.6757998466491699\n",
      "Epoch 40, CIFAR-10 Batch 5:  cost: 0.002314153825864196, accuracy: 0.6833998560905457\n",
      "Epoch 41, CIFAR-10 Batch 1:  cost: 0.0003620714705903083, accuracy: 0.668199896812439\n",
      "Epoch 41, CIFAR-10 Batch 2:  cost: 0.0005246398504823446, accuracy: 0.6803998947143555\n",
      "Epoch 41, CIFAR-10 Batch 3:  cost: 0.00016104870883282274, accuracy: 0.6769998669624329\n",
      "Epoch 41, CIFAR-10 Batch 4:  cost: 0.00024980222224257886, accuracy: 0.6683998703956604\n",
      "Epoch 41, CIFAR-10 Batch 5:  cost: 0.0002369498834013939, accuracy: 0.6733999252319336\n",
      "Epoch 42, CIFAR-10 Batch 1:  cost: 0.0010421056067571044, accuracy: 0.6657998561859131\n",
      "Epoch 42, CIFAR-10 Batch 2:  cost: 0.00017474903143011034, accuracy: 0.671799898147583\n",
      "Epoch 42, CIFAR-10 Batch 3:  cost: 0.001274841488339007, accuracy: 0.6755998730659485\n",
      "Epoch 42, CIFAR-10 Batch 4:  cost: 0.0004896853934042156, accuracy: 0.6729998588562012\n",
      "Epoch 42, CIFAR-10 Batch 5:  cost: 0.0011648812796920538, accuracy: 0.6579998731613159\n",
      "Epoch 43, CIFAR-10 Batch 1:  cost: 0.00034167771809734404, accuracy: 0.6659998893737793\n",
      "Epoch 43, CIFAR-10 Batch 2:  cost: 0.00040824239840731025, accuracy: 0.6609998345375061\n",
      "Epoch 43, CIFAR-10 Batch 3:  cost: 0.0003088520606979728, accuracy: 0.675399899482727\n",
      "Epoch 43, CIFAR-10 Batch 4:  cost: 0.0011730743572115898, accuracy: 0.6719998717308044\n",
      "Epoch 43, CIFAR-10 Batch 5:  cost: 0.000503482180647552, accuracy: 0.6701999306678772\n",
      "Epoch 44, CIFAR-10 Batch 1:  cost: 0.00021517006098292768, accuracy: 0.671799898147583\n",
      "Epoch 44, CIFAR-10 Batch 2:  cost: 0.0015130594838410616, accuracy: 0.6585999131202698\n",
      "Epoch 44, CIFAR-10 Batch 3:  cost: 0.00032903457758948207, accuracy: 0.6771998405456543\n",
      "Epoch 44, CIFAR-10 Batch 4:  cost: 0.0009894121903926134, accuracy: 0.6809998750686646\n",
      "Epoch 44, CIFAR-10 Batch 5:  cost: 0.005213641561567783, accuracy: 0.6789999008178711\n",
      "Epoch 45, CIFAR-10 Batch 1:  cost: 0.0006349376635625958, accuracy: 0.6667999029159546\n",
      "Epoch 45, CIFAR-10 Batch 2:  cost: 0.00025313516380265355, accuracy: 0.6733998656272888\n",
      "Epoch 45, CIFAR-10 Batch 3:  cost: 9.186181705445051e-05, accuracy: 0.680199921131134\n",
      "Epoch 45, CIFAR-10 Batch 4:  cost: 0.0008956772508099675, accuracy: 0.6677998900413513\n",
      "Epoch 45, CIFAR-10 Batch 5:  cost: 0.014723705127835274, accuracy: 0.671799898147583\n",
      "Epoch 46, CIFAR-10 Batch 1:  cost: 0.0005080767441540956, accuracy: 0.6715999245643616\n",
      "Epoch 46, CIFAR-10 Batch 2:  cost: 9.160876288660802e-06, accuracy: 0.6721998453140259\n",
      "Epoch 46, CIFAR-10 Batch 3:  cost: 0.005507742520421743, accuracy: 0.6785998940467834\n",
      "Epoch 46, CIFAR-10 Batch 4:  cost: 0.0003542513877619058, accuracy: 0.6697998642921448\n",
      "Epoch 46, CIFAR-10 Batch 5:  cost: 0.004971581511199474, accuracy: 0.6727998852729797\n",
      "Epoch 47, CIFAR-10 Batch 1:  cost: 0.0001248391781700775, accuracy: 0.6771998405456543\n",
      "Epoch 47, CIFAR-10 Batch 2:  cost: 0.00014719809405505657, accuracy: 0.6713998317718506\n",
      "Epoch 47, CIFAR-10 Batch 3:  cost: 0.00042311122524552047, accuracy: 0.6745998859405518\n",
      "Epoch 47, CIFAR-10 Batch 4:  cost: 0.0001799639721866697, accuracy: 0.6763998866081238\n",
      "Epoch 47, CIFAR-10 Batch 5:  cost: 0.0007597769144922495, accuracy: 0.6709998250007629\n",
      "Epoch 48, CIFAR-10 Batch 1:  cost: 0.0012244320241734385, accuracy: 0.6671999096870422\n",
      "Epoch 48, CIFAR-10 Batch 2:  cost: 1.2873490959464107e-05, accuracy: 0.6759998798370361\n",
      "Epoch 48, CIFAR-10 Batch 3:  cost: 6.612905417568982e-05, accuracy: 0.6839998960494995\n",
      "Epoch 48, CIFAR-10 Batch 4:  cost: 0.00032405482488684356, accuracy: 0.6677998900413513\n",
      "Epoch 48, CIFAR-10 Batch 5:  cost: 0.0015783613780513406, accuracy: 0.6659998893737793\n",
      "Epoch 49, CIFAR-10 Batch 1:  cost: 0.0007512937881983817, accuracy: 0.681999921798706\n",
      "Epoch 49, CIFAR-10 Batch 2:  cost: 0.0005069833132438362, accuracy: 0.6721997857093811\n",
      "Epoch 49, CIFAR-10 Batch 3:  cost: 0.0028245956636965275, accuracy: 0.675399899482727\n",
      "Epoch 49, CIFAR-10 Batch 4:  cost: 8.572787191951647e-05, accuracy: 0.6731997728347778\n",
      "Epoch 49, CIFAR-10 Batch 5:  cost: 0.007004998158663511, accuracy: 0.6773998737335205\n",
      "Epoch 50, CIFAR-10 Batch 1:  cost: 9.173044236376882e-05, accuracy: 0.665199875831604\n",
      "Epoch 50, CIFAR-10 Batch 2:  cost: 0.0007341855671256781, accuracy: 0.6721998453140259\n",
      "Epoch 50, CIFAR-10 Batch 3:  cost: 0.002965687308460474, accuracy: 0.6777998805046082\n",
      "Epoch 50, CIFAR-10 Batch 4:  cost: 0.00010964667308144271, accuracy: 0.6631998419761658\n",
      "Epoch 50, CIFAR-10 Batch 5:  cost: 0.0011105851735919714, accuracy: 0.6679999232292175\n"
     ]
    }
   ],
   "source": [
    "\"\"\"\n",
    "DON'T MODIFY ANYTHING IN THIS CELL\n",
    "\"\"\"\n",
    "save_model_path = './image_classification'\n",
    "\n",
    "print('Training...')\n",
    "with tf.Session() as sess:\n",
    "    # Initializing the variables\n",
    "    sess.run(tf.global_variables_initializer())\n",
    "    \n",
    "    # Training cycle\n",
    "    for epoch in range(epochs):\n",
    "        # Loop over all batches\n",
    "        n_batches = 5\n",
    "        for batch_i in range(1, n_batches + 1):\n",
    "            for batch_features, batch_labels in helper.load_preprocess_training_batch(batch_i, batch_size):\n",
    "                train_neural_network(sess, optimizer, keep_probability, batch_features, batch_labels)\n",
    "            print('Epoch {:>2}, CIFAR-10 Batch {}:  '.format(epoch + 1, batch_i), end='')\n",
    "            print_stats(sess, batch_features, batch_labels, cost, accuracy)\n",
    "            \n",
    "    # Save Model\n",
    "    saver = tf.train.Saver()\n",
    "    save_path = saver.save(sess, save_model_path)"
   ]
  },
  {
   "cell_type": "markdown",
   "metadata": {},
   "source": [
    "# Checkpoint\n",
    "The model has been saved to disk.\n",
    "## Test Model\n",
    "Test your model against the test dataset.  This will be your final accuracy. You should have an accuracy greater than 50%. If you don't, keep tweaking the model architecture and parameters."
   ]
  },
  {
   "cell_type": "code",
   "execution_count": 20,
   "metadata": {},
   "outputs": [
    {
     "name": "stdout",
     "output_type": "stream",
     "text": [
      "INFO:tensorflow:Restoring parameters from ./image_classification\n",
      "Testing Accuracy: 0.6705893987341772\n",
      "\n"
     ]
    },
    {
     "data": {
      "image/png": "[encoded data removed]",
      "text/plain": [
       "<matplotlib.figure.Figure at 0x7fbb191053c8>"
      ]
     },
     "metadata": {
      "image/png": {
       "height": 319,
       "width": 355
      }
     },
     "output_type": "display_data"
    }
   ],
   "source": [
    "\"\"\"\n",
    "DON'T MODIFY ANYTHING IN THIS CELL\n",
    "\"\"\"\n",
    "%matplotlib inline\n",
    "%config InlineBackend.figure_format = 'retina'\n",
    "\n",
    "import tensorflow as tf\n",
    "import pickle\n",
    "import helper\n",
    "import random\n",
    "\n",
    "# Set batch size if not already set\n",
    "try:\n",
    "    if batch_size:\n",
    "        pass\n",
    "except NameError:\n",
    "    batch_size = 64\n",
    "\n",
    "save_model_path = './image_classification'\n",
    "n_samples = 4\n",
    "top_n_predictions = 3\n",
    "\n",
    "def test_model():\n",
    "    \"\"\"\n",
    "    Test the saved model against the test dataset\n",
    "    \"\"\"\n",
    "\n",
    "    test_features, test_labels = pickle.load(open('preprocess_test.p', mode='rb'))\n",
    "    loaded_graph = tf.Graph()\n",
    "\n",
    "    with tf.Session(graph=loaded_graph) as sess:\n",
    "        # Load model\n",
    "        loader = tf.train.import_meta_graph(save_model_path + '.meta')\n",
    "        loader.restore(sess, save_model_path)\n",
    "\n",
    "        # Get Tensors from loaded model\n",
    "        loaded_x = loaded_graph.get_tensor_by_name('x:0')\n",
    "        loaded_y = loaded_graph.get_tensor_by_name('y:0')\n",
    "        loaded_keep_prob = loaded_graph.get_tensor_by_name('keep_prob:0')\n",
    "        loaded_logits = loaded_graph.get_tensor_by_name('logits:0')\n",
    "        loaded_acc = loaded_graph.get_tensor_by_name('accuracy:0')\n",
    "        \n",
    "        # Get accuracy in batches for memory limitations\n",
    "        test_batch_acc_total = 0\n",
    "        test_batch_count = 0\n",
    "        \n",
    "        for train_feature_batch, train_label_batch in helper.batch_features_labels(test_features, test_labels, batch_size):\n",
    "            test_batch_acc_total += sess.run(\n",
    "                loaded_acc,\n",
    "                feed_dict={loaded_x: train_feature_batch, loaded_y: train_label_batch, loaded_keep_prob: 1.0})\n",
    "            test_batch_count += 1\n",
    "\n",
    "        print('Testing Accuracy: {}\\n'.format(test_batch_acc_total/test_batch_count))\n",
    "\n",
    "        # Print Random Samples\n",
    "        random_test_features, random_test_labels = tuple(zip(*random.sample(list(zip(test_features, test_labels)), n_samples)))\n",
    "        random_test_predictions = sess.run(\n",
    "            tf.nn.top_k(tf.nn.softmax(loaded_logits), top_n_predictions),\n",
    "            feed_dict={loaded_x: random_test_features, loaded_y: random_test_labels, loaded_keep_prob: 1.0})\n",
    "        helper.display_image_predictions(random_test_features, random_test_labels, random_test_predictions)\n",
    "\n",
    "\n",
    "test_model()"
   ]
  },
  {
   "cell_type": "markdown",
   "metadata": {},
   "source": [
    "## Why 50-70% Accuracy?\n",
    "You might be wondering why you can't get an accuracy any higher. First things first, 50% isn't bad for a simple CNN.  Pure guessing would get you 10% accuracy. However, you might notice people are getting scores [well above 70%](http://rodrigob.github.io/are_we_there_yet/build/classification_datasets_results.html#43494641522d3130).  That's because we haven't taught you all there is to know about neural networks. We still need to cover a few more techniques.\n",
    "## Submitting This Project\n",
    "When submitting this project, make sure to run all the cells before saving the notebook.  Save the notebook file as \"dlnd_image_classification.ipynb\" and save it as a HTML file under \"File\" -> \"Download as\".  Include the \"helper.py\" and \"problem_unittests.py\" files in your submission."
   ]
  }
 ],
 "metadata": {
  "kernelspec": {
   "display_name": "Python 3",
   "language": "python",
   "name": "python3"
  },
  "language_info": {
   "codemirror_mode": {
    "name": "ipython",
    "version": 3
   },
   "file_extension": ".py",
   "mimetype": "text/x-python",
   "name": "python",
   "nbconvert_exporter": "python",
   "pygments_lexer": "ipython3",
   "version": "3.5.3"
  }
 },
 "nbformat": 4,
 "nbformat_minor": 1
}
